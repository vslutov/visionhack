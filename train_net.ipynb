{
 "cells": [
  {
   "cell_type": "code",
   "execution_count": 13,
   "metadata": {
    "collapsed": false
   },
   "outputs": [],
   "source": [
    "import os\n",
    "\n",
    "from keras.applications.inception_v3 import InceptionV3\n",
    "from keras.preprocessing import image\n",
    "from keras.models import Model\n",
    "from keras.layers import Dense, GlobalAveragePooling2D\n",
    "from keras import backend as K\n",
    "from keras.callbacks import ModelCheckpoint, EarlyStopping, ReduceLROnPlateau, CSVLogger\n",
    "from keras.optimizers import SGD\n",
    "\n",
    "from data_generator import WrapperImageDataGenerator"
   ]
  },
  {
   "cell_type": "code",
   "execution_count": 4,
   "metadata": {
    "collapsed": false
   },
   "outputs": [],
   "source": [
    "TRAIN_DATA_DIR = ''\n",
    "VALID_DATA_DIR = ''\n",
    "IMAGE_SHAPE = (299, 299)\n",
    "BATCH_SIZE = 64\n",
    "\n",
    "train_data_generator = WrapperImageDataGenerator(featurewise_center=False,\n",
    "                                                samplewise_center=False,\n",
    "                                                featurewise_std_normalization=False,\n",
    "                                                samplewise_std_normalization=False,\n",
    "                                                zca_whitening=False,\n",
    "                                                zca_epsilon=1e-6,\n",
    "                                                rotation_range=0.,\n",
    "                                                width_shift_range=0.,\n",
    "                                                height_shift_range=0.,\n",
    "                                                shear_range=0.,\n",
    "                                                zoom_range=0.,\n",
    "                                                channel_shift_range=0.,\n",
    "                                                fill_mode='nearest',\n",
    "                                                cval=0.,\n",
    "                                                horizontal_flip=False,\n",
    "                                                vertical_flip=False,\n",
    "                                                rescale=None,\n",
    "                                                data_format=K.image_data_format())\n",
    "\n",
    "train_generator = train_data_generator.flow_from_directory(TRAIN_DATA_DIR,\n",
    "                                                           target_size=IMAGE_SHAPE,\n",
    "                                                           batch_size=BATCH_SIZE,\n",
    "                                                           class_mode=\"categorical\",\n",
    "                                                           shuffle=shuffle,\n",
    "                                                           color_mode='rgb')\n",
    "\n",
    "\n",
    "valid_data_generator = WrapperImageDataGenerator(rescale=None,\n",
    "                                                 data_format=K.image_data_format())\n",
    "\n",
    "valid_generator = valid_data_generator.flow_from_directory(VALID_DATA_DIR,\n",
    "                                                           target_size=IMAGE_SHAPE,\n",
    "                                                           batch_size=BATCH_SIZE,\n",
    "                                                           class_mode=\"categorical\",\n",
    "                                                           shuffle=shuffle,\n",
    "                                                           color_mode='rgb')"
   ]
  },
  {
   "cell_type": "code",
   "execution_count": 11,
   "metadata": {
    "collapsed": false
   },
   "outputs": [],
   "source": [
    "MODEL_DATA_DIR = 'data/models'\n",
    "\n",
    "#callbacks\n",
    "checkpoint_path = 'checkpoints_weights.{epoch:02d}-{val_categorical_accuracy:.2f}-{val_loss:.2f}.hdf5'\n",
    "checkpoint_path = os.path.join(MODEL_DATA_DIR, checkpoint_path)\n",
    "checkpointer = ModelCheckpoint(filepath=checkpoint_path, monitor='val_loss', verbose=1, period=10)\n",
    "\n",
    "stoper = EarlyStopping(monitor='val_loss', min_delta=0.001, patience=6)\n",
    "\n",
    "reducer = ReduceLROnPlateau(monitor='val_loss',factor=0.1, patience=5, min_lr=0.00001, verbose=1)\n",
    "\n",
    "log_path = 'log.csv'\n",
    "log_path = os.path.join(MODEL_DATA_DIR, log_path)\n",
    "logger = CSVLogger(filename=log_path, append=True)\n",
    "\n",
    "callbacks = [checkpointer]"
   ]
  },
  {
   "cell_type": "code",
   "execution_count": null,
   "metadata": {
    "collapsed": false
   },
   "outputs": [],
   "source": [
    "# create the base pre-trained model\n",
    "base_model = InceptionV3(input_shape=(384,216, 3), weights='imagenet', include_top=False)\n",
    "\n",
    "# add a global spatial average pooling layer\n",
    "x = base_model.output\n",
    "x = GlobalAveragePooling2D()(x)\n",
    "# let's add a fully-connected layer\n",
    "#x = Dense(1024, activation='relu')(x)\n",
    "# and a logistic layer -- let's say we have 200 classes\n",
    "predictions = Dense(9, activation='sigmoid')(x)\n",
    "\n",
    "# this is the model we will train\n",
    "model = Model(inputs=base_model.input, outputs=predictions)\n",
    "model.summary()"
   ]
  },
  {
   "cell_type": "code",
   "execution_count": null,
   "metadata": {
    "collapsed": true
   },
   "outputs": [],
   "source": [
    "TRAIN_DATA_DIR = ''\n",
    "EPOCHS = 100\n",
    "IMAGES_ON_EPOCHS = 10000\n",
    "LR = 0.00001\n",
    "\n",
    "# first: train only the top layers (which were randomly initialized)\n",
    "# i.e. freeze all convolutional InceptionV3 layers\n",
    "for layer in base_model.layers:\n",
    "    layer.trainable = False\n",
    "    \n",
    "sgd = SGD(lr=LR, decay=1e-6, momentum=0.9, nesterov=True)\n",
    "    \n",
    "# compile the model (should be done *after* setting layers to non-trainable)\n",
    "model.compile(optimizer=sgd, loss='binary_crossentropy', metrics=['MSE'])\n",
    "\n",
    "model.fit_generator(train_generator, \n",
    "                    epochs=EPOCHS,\n",
    "                    steps_per_epoch = int(IMAGES_ON_EPOCHS / BATCH_SIZE)\n",
    "                    verbose=1, \n",
    "                    validation_data=valid_generator,\n",
    "                    callbacks=callbacks,  \n",
    "                    validation_steps=int(0.1 * IMAGES_ON_EPOCHS / BATCH_SIZE), \n",
    "                    class_weight=None, \n",
    "                    initial_epoch=0)"
   ]
  },
  {
   "cell_type": "code",
   "execution_count": null,
   "metadata": {
    "collapsed": true
   },
   "outputs": [],
   "source": [
    "FINETUNE_EPOCHS = 100\n",
    "FINETUNE_LR = 0.0001\n",
    "\n",
    "for i, layer in enumerate(base_model.layers):\n",
    "    print(i, layer.name)\n",
    "\n",
    "# we chose to train the top 2 inception blocks, i.e. we will freeze\n",
    "# the first 249 layers and unfreeze the rest:\n",
    "for layer in model.layers[:249]:\n",
    "    layer.trainable = False\n",
    "for layer in model.layers[249:]:\n",
    "    layer.trainable = True\n",
    "\n",
    "# we need to recompile the model for these modifications to take effect\n",
    "# we use SGD with a low learning rate\n",
    "\n",
    "model.compile(optimizer=SGD(lr=FINETUNE_LR, momentum=0.9), loss='binary_crossentropy', metrics=['MSE'])\n",
    "\n",
    "# we train our model again (this time fine-tuning the top 2 inception blocks\n",
    "# alongside the top Dense layers\n",
    "model.fit_generator(train_generator, \n",
    "                    epochs=FINETUNE_EPOCHS,\n",
    "                    steps_per_epoch = int(IMAGES_ON_EPOCHS / BATCH_SIZE)\n",
    "                    verbose=1, \n",
    "                    validation_data=valid_generator,\n",
    "                    callbacks=callbacks,  \n",
    "                    validation_steps=int(0.1 * IMAGES_ON_EPOCHS / BATCH_SIZE), \n",
    "                    class_weight=None, \n",
    "                    initial_epoch=EPOCHS)"
   ]
  }
 ],
 "metadata": {
  "kernelspec": {
   "display_name": "Python 3",
   "language": "python",
   "name": "python3"
  },
  "language_info": {
   "codemirror_mode": {
    "name": "ipython",
    "version": 3
   },
   "file_extension": ".py",
   "mimetype": "text/x-python",
   "name": "python",
   "nbconvert_exporter": "python",
   "pygments_lexer": "ipython3",
   "version": "3.5.2"
  }
 },
 "nbformat": 4,
 "nbformat_minor": 0
}
